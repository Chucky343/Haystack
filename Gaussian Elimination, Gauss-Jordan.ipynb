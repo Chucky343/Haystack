{
 "cells": [
  {
   "cell_type": "code",
   "execution_count": 1,
   "metadata": {},
   "outputs": [],
   "source": [
    "import numpy as np"
   ]
  },
  {
   "cell_type": "code",
   "execution_count": 3,
   "metadata": {},
   "outputs": [
    {
     "name": "stdout",
     "output_type": "stream",
     "text": [
      "[[   1.19     2.11  -100.       1.   ]\n",
      " [  14.2     -0.122   12.2     -1.   ]\n",
      " [   0.     100.     -99.9      1.   ]\n",
      " [  15.3      0.11   -13.1     -1.   ]] [1.12 3.44 2.15 4.16]\n",
      "[[ 1.19000000e+00  2.11000000e+00 -1.00000000e+02  1.00000000e+00]\n",
      " [ 0.00000000e+00 -2.53001513e+01  1.20547731e+03 -1.29327731e+01]\n",
      " [ 0.00000000e+00  0.00000000e+00  4.66480397e+03 -5.01173747e+01]\n",
      " [ 0.00000000e+00  0.00000000e+00  0.00000000e+00 -2.04328072e-01]] \n",
      " b = [  1.12        -9.92470588 -37.07785196   0.24164015]\n",
      "x = [ 0.1768253   0.01269269 -0.02065405 -1.1826087 ]\n"
     ]
    }
   ],
   "source": [
    "A = np.array([[1.19,2.11,-100,1],[14.2,-0.122,12.2,-1],[0,100,-99.9,1],[15.3,0.11,-13.1,-1]])\n",
    "b = np.array([1.12,3.44,2.15,4.16])\n",
    "print(A,b)\n",
    "n = len(b)\n",
    "x = np.zeros(n)\n",
    "\n",
    "# Row-echelon form\n",
    "\n",
    "for k in range(0,n-1):\n",
    "    for i in range(k+1,n):\n",
    "        mult = A[i][k]/A[k][k]\n",
    "        for j in range(k,n):\n",
    "            A[i][j] = A[i][j]-(mult)*A[k][j]\n",
    "        b[i] = b[i]-(mult)* b[k]\n",
    "print(A,'\\n b =',b)\n",
    "x[n-1] = b[n-1]/A[n-1,n-1]\n",
    "\n",
    "for i in range(n-2,-1,-1):\n",
    "    sum = b[i]\n",
    "    for j in range(i+1,n):\n",
    "        sum = sum-A[i,j]*x[j]\n",
    "    x[i] = sum/A[i,i]\n",
    "print('x =',x)"
   ]
  },
  {
   "cell_type": "code",
   "execution_count": 6,
   "metadata": {},
   "outputs": [
    {
     "name": "stdout",
     "output_type": "stream",
     "text": [
      "[[   1.19     2.11  -100.       1.   ]\n",
      " [  14.2     -0.122   12.2     -1.   ]\n",
      " [   0.     100.     -99.9      1.   ]\n",
      " [  15.3      0.11   -13.1     -1.   ]] [1.12 3.44 2.15 4.16]\n",
      "A = [[ 1.19000000e+00  2.11000000e+00 -1.00000000e+02  1.00000000e+00]\n",
      " [ 0.00000000e+00 -2.53001513e+01  1.20547731e+03 -1.29327731e+01]\n",
      " [ 0.00000000e+00  0.00000000e+00  4.66480397e+03 -5.01173747e+01]\n",
      " [ 0.00000000e+00  0.00000000e+00  0.00000000e+00 -2.04328072e-01]] \n",
      " b = [  1.12        -9.92470588 -37.07785196   0.24164015]\n",
      "r_norm = 0.0 \n",
      "r = [0. 0. 0. 0.]\n",
      "x = [ 0.1768253   0.01269269 -0.02065405 -1.1826087 ]\n"
     ]
    }
   ],
   "source": [
    "A = np.array([[1.19,2.11,-100,1],[14.2,-0.122,12.2,-1],[0,100,-99.9,1],[15.3,0.11,-13.1,-1]])\n",
    "b = np.array([1.12,3.44,2.15,4.16])\n",
    "print(A,b)\n",
    "n = len(b)\n",
    "x = np.zeros(n)\n",
    "Ax = np.zeros(n)\n",
    "r = np.array([1, 0, 0,0])\n",
    "r_norm = np.linalg.norm(r)\n",
    "y = np.zeros(n)\n",
    "while(r_norm >= 10**(-3)):\n",
    "    for k in range(0,n-1):\n",
    "        for i in range(k+1,n):\n",
    "            mult = A[i][k]/A[k][k]\n",
    "            for j in range(k,n):\n",
    "                A[i][j] = A[i][j]-(mult)*A[k][j]\n",
    "            b[i] = b[i]-(mult)* b[k]\n",
    "    print('A =',A,'\\n b =',b)\n",
    "    x[n-1] = b[n-1]/A[n-1,n-1]\n",
    "    for i in range(n-2,-1,-1):\n",
    "        sum = b[i]\n",
    "        for j in range(i+1,n):\n",
    "            sum = sum-A[i,j]*x[j]\n",
    "        x[i] = sum/A[i,i]\n",
    "\n",
    "    #Finding the value of Ax\n",
    "    for i in range(len(A)):\n",
    "        for j in range(len(b)):\n",
    "            Ax[i] = Ax[i]+A[i,j]*x[j]\n",
    "    r = b-Ax\n",
    "    r_norm = np.linalg.norm(r)\n",
    "    print('r_norm =',r_norm,'\\nr =',r)\n",
    "    b = r\n",
    "    x = x+y\n",
    "    y = x\n",
    "    print('x =',x)"
   ]
  },
  {
   "cell_type": "code",
   "execution_count": 7,
   "metadata": {},
   "outputs": [
    {
     "name": "stdout",
     "output_type": "stream",
     "text": [
      "[[   1.19     2.11  -100.       1.   ]\n",
      " [  14.2     -0.122   12.2     -1.   ]\n",
      " [   0.     100.     -99.9      1.   ]\n",
      " [  15.3      0.11   -13.1     -1.   ]] [1.12 3.44 2.15 4.16]\n",
      "A = [[ 1.19000000e+00  0.00000000e+00  0.00000000e+00  0.00000000e+00]\n",
      " [ 0.00000000e+00 -2.53001513e+01  0.00000000e+00  0.00000000e+00]\n",
      " [ 0.00000000e+00  0.00000000e+00  4.66480397e+03  0.00000000e+00]\n",
      " [ 0.00000000e+00  0.00000000e+00  0.00000000e+00 -2.04328072e-01]] \n",
      "b = [  0.2104221   -0.321127   -96.34709503   0.24164015]\n",
      "x = [ 0.1768253   0.01269269 -0.02065405 -1.1826087 ]\n"
     ]
    }
   ],
   "source": [
    "A = np.array([[1.19,2.11,-100,1],[14.2,-0.122,12.2,-1],[0,100,-99.9,1],[15.3,0.11,-13.1,-1]])\n",
    "b = np.array([1.12,3.44,2.15,4.16])\n",
    "print(A,b)\n",
    "n = len(b)\n",
    "x = np.zeros(n)\n",
    "for k in range(0,n):\n",
    "    for i in range(0,n):\n",
    "        if(k!= i):\n",
    "            mult = A[i][k]/A[k][k]\n",
    "            for j in range(k,n):\n",
    "                A[i][j] = A[i][j]-(mult)*A[k][j]\n",
    "            b[i] = b[i]-(mult)*b[k]\n",
    "print('A =',A,'\\nb =',b)\n",
    "\n",
    "for i in range(n-1,-1,-1):\n",
    "    x[i] = b[i]/A[i,i]\n",
    "print('x =',x)"
   ]
  },
  {
   "cell_type": "code",
   "execution_count": null,
   "metadata": {},
   "outputs": [],
   "source": []
  }
 ],
 "metadata": {
  "kernelspec": {
   "display_name": "Python 3",
   "language": "python",
   "name": "python3"
  },
  "language_info": {
   "codemirror_mode": {
    "name": "ipython",
    "version": 3
   },
   "file_extension": ".py",
   "mimetype": "text/x-python",
   "name": "python",
   "nbconvert_exporter": "python",
   "pygments_lexer": "ipython3",
   "version": "3.8.5"
  }
 },
 "nbformat": 4,
 "nbformat_minor": 4
}

{
 "cells": [
  {
   "cell_type": "markdown",
   "metadata": {},
   "source": [
    "## Question 1"
   ]
  },
  {
   "cell_type": "code",
   "execution_count": 25,
   "metadata": {},
   "outputs": [
    {
     "name": "stdout",
     "output_type": "stream",
     "text": [
      "[0, 1.3333333333333333, 2, 1.4, -0.22222222222222232, 2, -0.04000000000000026]\n",
      "[1, 1.4, 2, 1.411764705882353, -0.04000000000000026, 2, -0.006920415224913157]\n",
      "[2, 1.411764705882353, 2, 1.4137931034482758, -0.006920415224913157, 2, -0.0011890606420930094]\n",
      "[3, 1.4137931034482758, 2, 1.414141414141414, -0.0011890606420930094, 2, -0.00020406081012214194]\n",
      "[4, 1.414141414141414, 2, 1.4142011834319526, -0.00020406081012214194, 2, -3.501277966488914e-05]\n",
      "[5, 1.4142011834319526, 2, 1.41421143847487, -3.501277966488914e-05, 2, -6.007286838860537e-06]\n",
      "[6, 1.41421143847487, 2, 1.4142131979695434, -6.007286838860537e-06, 2, -1.030688757230891e-06]\n",
      "[7, 1.4142131979695434, 2, 1.4142134998513232, -1.030688757230891e-06, 2, -1.7683827158165855e-07]\n",
      "[8, 1.4142134998513232, 2, 1.4142135516460548, -1.7683827158165855e-07, 2, -3.034065154672305e-08]\n",
      "[9, 1.4142135516460548, 2, 1.4142135605326258, -3.034065154672305e-08, 2, -5.2056330357430625e-09]\n",
      "[10, 1.4142135605326258, 2, 1.4142135620573202, -5.2056330357430625e-09, 2, -8.93146223646113e-10]\n",
      "root =  1.4142135620573202\n"
     ]
    }
   ],
   "source": [
    "import numpy as np\n",
    "def f(x):\n",
    "    return x**2-2\n",
    "a = 1\n",
    "b = 2\n",
    "c = ((a*f(b))-(b*f(a)))/(f(b)-f(a))\n",
    "for i in range(11):\n",
    "    if f(a)*f(c)<0:\n",
    "        b = c\n",
    "    else:\n",
    "        a = c\n",
    "    c = ((a*f(b))-(b*f(a)))/(f(b)-f(a))\n",
    "    list = [i,a,b,c,f(a),f(b),f(c)]\n",
    "    print(list)\n",
    "print('root = ',c)"
   ]
  },
  {
   "cell_type": "markdown",
   "metadata": {},
   "source": [
    "## Question 2"
   ]
  },
  {
   "cell_type": "code",
   "execution_count": 12,
   "metadata": {},
   "outputs": [
    {
     "name": "stdout",
     "output_type": "stream",
     "text": [
      "1 1.4\n",
      "2 1.411764705882353\n",
      "3 1.4137931034482758\n",
      "4 1.414141414141414\n",
      "5 1.4142011834319526\n",
      "6 1.41421143847487\n",
      "7 1.4142131979695434\n",
      "8 1.4142134998513232\n",
      "9 1.4142135516460548\n",
      "Absolute Error: a = 1 b = 2 Approx Value: 1.4142135516460548\n"
     ]
    }
   ],
   "source": [
    "def f(x):\n",
    "    return x**2-2\n",
    "a = 1\n",
    "b = 2\n",
    "abs1 = a\n",
    "abs2 = b\n",
    "c = ((a*f(b))-(b*f(a)))/(f(b)-f(a))\n",
    "tol = 10**(-7)\n",
    "i = 0\n",
    "temp = b\n",
    "while(abs(temp-c) >= tol):\n",
    "    temp = c\n",
    "    if f(a)*f(c) < 0:\n",
    "        b = c\n",
    "    else:\n",
    "        a = c\n",
    "    c = ((a*f(b))-(b*f(a)))/(f(b)-f(a))\n",
    "    i = i+1\n",
    "    print(i,c)\n",
    "print('Absolute Error: a =',abs1,'b =',abs2,'Approx Value:',c)"
   ]
  },
  {
   "cell_type": "code",
   "execution_count": 14,
   "metadata": {},
   "outputs": [
    {
     "name": "stdout",
     "output_type": "stream",
     "text": [
      "1 1.4\n",
      "2 1.411764705882353\n",
      "3 1.4137931034482758\n",
      "4 1.414141414141414\n",
      "5 1.4142011834319526\n",
      "6 1.41421143847487\n",
      "7 1.4142131979695434\n",
      "8 1.4142134998513232\n",
      "9 1.4142135516460548\n",
      "Relative Error: a = 1 b = 2 Approx Value: 1.4142135516460548\n"
     ]
    }
   ],
   "source": [
    "def f(x):\n",
    "    return x**2-2\n",
    "a = 1\n",
    "b = 2\n",
    "abs1 = a\n",
    "abs2 = b\n",
    "c = ((a*f(b))-(b*f(a)))/(f(b)-f(a))\n",
    "tol = 10**(-7)\n",
    "i = 0\n",
    "temp = b\n",
    "while(abs(temp-c)/abs(temp) >= tol):\n",
    "    temp = c\n",
    "    if f(a)*f(c) < 0:\n",
    "        b = c\n",
    "    else:\n",
    "        a = c\n",
    "    c = ((a*f(b))-(b*f(a)))/(f(b)-f(a))\n",
    "    i = i+1\n",
    "    print(i,c)\n",
    "print('Relative Error: a =',abs1,'b =',abs2,'Approx Value:',c)"
   ]
  },
  {
   "cell_type": "code",
   "execution_count": 17,
   "metadata": {},
   "outputs": [
    {
     "name": "stdout",
     "output_type": "stream",
     "text": [
      "1 1.4\n",
      "2 1.411764705882353\n",
      "3 1.4137931034482758\n",
      "4 1.414141414141414\n",
      "5 1.4142011834319526\n",
      "6 1.41421143847487\n",
      "7 1.4142131979695434\n",
      "8 1.4142134998513232\n",
      "9 1.4142135516460548\n",
      "Functional Value: 1.4142135516460548\n"
     ]
    }
   ],
   "source": [
    "def f(x):\n",
    "    return x**2-2\n",
    "a = 1\n",
    "b = 2\n",
    "abs1 = a\n",
    "abs2 = b\n",
    "c = ((a*f(b))-(b*f(a)))/(f(b)-f(a))\n",
    "tol = 10**(-7)\n",
    "i = 0\n",
    "while(abs(f(c)) >= tol):\n",
    "    if f(a)*f(c) < 0:\n",
    "        b = c\n",
    "    else:\n",
    "        a = c\n",
    "    c = ((a*f(b))-(b*f(a)))/(f(b)-f(a))\n",
    "    i = i+1\n",
    "    print(i,c)\n",
    "print('Functional Value:',c)"
   ]
  },
  {
   "cell_type": "markdown",
   "metadata": {},
   "source": [
    "## Question 3"
   ]
  },
  {
   "cell_type": "code",
   "execution_count": 18,
   "metadata": {},
   "outputs": [
    {
     "name": "stdout",
     "output_type": "stream",
     "text": [
      "1 1.6666666666666665\n",
      "2 1.5294117647058822\n",
      "3 1.4233128834355826\n",
      "4 1.4145685651429967\n",
      "5 1.414214700646219\n",
      "6 1.4142135625159444\n",
      "7 1.4142135623730951\n",
      "Absolute Error: x0 = 2 x1 = 4 Approx Value: 1.4142135623730951\n"
     ]
    }
   ],
   "source": [
    "def f(x):\n",
    "    return x**2-2\n",
    "x0 = 2\n",
    "x1 = 4\n",
    "x2 = 0\n",
    "absolute = 2\n",
    "tol = 10**(-7)\n",
    "i = 0\n",
    "while(abs(absolute) >= tol):\n",
    "    x2 = x1-((f(x1)*(x1-x0))/(f(x1)-f(x0)))\n",
    "    absolute = x2-x1\n",
    "    x0 = x1\n",
    "    x1 = x2\n",
    "    i = i+1\n",
    "    print(i,x2)\n",
    "print('Absolute Error: x0 =',2,'x1 =',4,'Approx Value:',x2)"
   ]
  },
  {
   "cell_type": "code",
   "execution_count": 20,
   "metadata": {},
   "outputs": [
    {
     "name": "stdout",
     "output_type": "stream",
     "text": [
      "1 1.6666666666666665\n",
      "2 1.5294117647058822\n",
      "3 1.4233128834355826\n",
      "4 1.4145685651429967\n",
      "5 1.414214700646219\n",
      "6 1.4142135625159444\n",
      "7 1.4142135623730951\n",
      "Relative Error: x0 = 2 x1 = 4 Approx Value: 1.4142135623730951\n"
     ]
    }
   ],
   "source": [
    "def f(x):\n",
    "    return x**2-2\n",
    "x0 = 2\n",
    "x1 = 4\n",
    "x2 = 0\n",
    "relative = 2\n",
    "tol = 10**(-7)\n",
    "i = 0\n",
    "while(abs(relative) > tol):\n",
    "    x2 = x1-((f(x1)*(x1-x0))/(f(x1)-f(x0)))\n",
    "    relative = (x2-x1)/x1\n",
    "    x0 = x1\n",
    "    x1 = x2\n",
    "    i = i+1\n",
    "    print(i,x2)\n",
    "print('Relative Error: x0 =',2,'x1 =',4,'Approx Value:',x2)"
   ]
  },
  {
   "cell_type": "code",
   "execution_count": 24,
   "metadata": {},
   "outputs": [
    {
     "name": "stdout",
     "output_type": "stream",
     "text": [
      "1 1.6666666666666665\n",
      "2 1.5294117647058822\n",
      "3 1.4233128834355826\n",
      "4 1.4145685651429967\n",
      "5 1.414214700646219\n",
      "6 1.4142135625159444\n",
      "Functional Value: 1.4142135625159444\n"
     ]
    }
   ],
   "source": [
    "def f(x):\n",
    "    return x**2-2\n",
    "x0 = 2\n",
    "x1 = 4\n",
    "x2 = 0\n",
    "absvalue = 2\n",
    "tol = 10**(-7)\n",
    "i = 0\n",
    "while(abs(f(x2)) > tol):\n",
    "    x2 = x1-((f(x1)*(x1-x0))/(f(x1)-f(x0)))\n",
    "    absvalue = x2-x1\n",
    "    x0 = x1\n",
    "    x1 = x2\n",
    "    i = i+1\n",
    "    print(i,x2)\n",
    "print('Functional Value:',x2)"
   ]
  },
  {
   "cell_type": "code",
   "execution_count": null,
   "metadata": {},
   "outputs": [],
   "source": []
  }
 ],
 "metadata": {
  "kernelspec": {
   "display_name": "Python 3",
   "language": "python",
   "name": "python3"
  },
  "language_info": {
   "codemirror_mode": {
    "name": "ipython",
    "version": 3
   },
   "file_extension": ".py",
   "mimetype": "text/x-python",
   "name": "python",
   "nbconvert_exporter": "python",
   "pygments_lexer": "ipython3",
   "version": "3.8.5"
  }
 },
 "nbformat": 4,
 "nbformat_minor": 4
}

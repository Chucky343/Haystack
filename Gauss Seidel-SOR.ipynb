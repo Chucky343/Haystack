{
 "cells": [
  {
   "cell_type": "code",
   "execution_count": 1,
   "metadata": {},
   "outputs": [],
   "source": [
    "import numpy as np"
   ]
  },
  {
   "cell_type": "markdown",
   "metadata": {},
   "source": [
    "## Question 1"
   ]
  },
  {
   "cell_type": "code",
   "execution_count": 14,
   "metadata": {},
   "outputs": [
    {
     "name": "stdout",
     "output_type": "stream",
     "text": [
      "[-0.5        -0.5         0.          0.33333333] 1\n",
      "[-0.45833333 -0.29166667 -0.26666667  0.33333333] 2\n",
      "[-0.57708333 -0.36875    -0.21666667  0.47777778] 3\n",
      "[-0.58142361 -0.29045139 -0.28472222  0.475     ] 4\n",
      "[-0.61731771 -0.30707465 -0.269375    0.52523148] 5\n",
      "[-0.62188296 -0.28170645 -0.28992477  0.52653935] 6\n",
      "[-0.63368942 -0.28537561 -0.28602575  0.54336709] 7\n",
      "[-0.63600431 -0.27724231 -0.29248642  0.54477985] 8\n",
      "[-0.64000599 -0.27792557 -0.29160529  0.55041614] 9\n",
      "[-0.64102397 -0.27529579 -0.29366954  0.55122857] 10\n",
      "[-0.64240058 -0.27535425 -0.29350967  0.55313257] 11\n",
      "[-0.642822   -0.27449413 -0.29417748  0.55351867] 12\n"
     ]
    }
   ],
   "source": [
    "A = np.array([[4,1,-1,1],[1,4,-1,-1],[-1,-1,5,1],[1,-1,1,3]],dtype = 'float64')\n",
    "b = np.array([-2,-2,0,1],dtype = 'float64')\n",
    "n = len(A)\n",
    "x = np.zeros(n)\n",
    "y = np.zeros(n)\n",
    "tol = 1\n",
    "l = 0\n",
    "while(tol>0.001):\n",
    "    for i in range(n):\n",
    "        sum = 0\n",
    "        for j in range(0,i):\n",
    "            sum += A[i,j]*y[j]\n",
    "        for j in range(i+1,n):\n",
    "            sum += A[i,j]*y[j]\n",
    "        x[i] = (b[i]-sum)/A[i,i]\n",
    "        \n",
    "    tol = max(abs(x-y))\n",
    "    y = np.copy(x)\n",
    "    l = l+1\n",
    "    print(x,l)"
   ]
  },
  {
   "cell_type": "markdown",
   "metadata": {},
   "source": [
    "## Question 2"
   ]
  },
  {
   "cell_type": "code",
   "execution_count": 12,
   "metadata": {},
   "outputs": [
    {
     "name": "stdout",
     "output_type": "stream",
     "text": [
      "[-0.5        -0.375      -0.175       0.43333333] 1\n",
      "[-0.55833333 -0.29583333 -0.2575      0.50666667] 2\n",
      "[-0.61708333 -0.2834375  -0.2814375   0.53836111] 3\n",
      "[-0.63409028 -0.27724653 -0.28993958  0.54892778] 4\n",
      "[-0.64040521 -0.27515165 -0.29289693  0.55271683] 5\n",
      "[-0.64261553 -0.27439114 -0.2939447   0.55405636] 6\n",
      "[-0.64340248 -0.27412146 -0.29431606  0.55453236] 7\n"
     ]
    }
   ],
   "source": [
    "A = np.array([[4,1,-1,1],[1,4,-1,-1],[-1,-1,5,1],[1,-1,1,3]],dtype = 'float64')\n",
    "b = np.array([-2,-2,0,1],dtype = 'float64')\n",
    "n = len(A)\n",
    "x = np.zeros(n)\n",
    "y = np.zeros(n)\n",
    "tol = 1\n",
    "l = 0\n",
    "while(tol>0.001):\n",
    "    for i in range(n):\n",
    "        sum = 0\n",
    "        for j in range(0,i):\n",
    "            sum += A[i,j]*x[j]\n",
    "        for j in range(i+1,n):\n",
    "            sum += A[i,j]*y[j]\n",
    "        x[i] = (b[i]-sum)/A[i,i]\n",
    "        \n",
    "    tol = max(abs(x-y))\n",
    "    y = np.copy(x)\n",
    "    l = l+1\n",
    "    print(x,l)"
   ]
  },
  {
   "cell_type": "markdown",
   "metadata": {},
   "source": [
    "## Question 3"
   ]
  },
  {
   "cell_type": "code",
   "execution_count": 13,
   "metadata": {},
   "outputs": [
    {
     "name": "stdout",
     "output_type": "stream",
     "text": [
      "[-0.55      -0.39875   -0.208725   0.4986575] 1\n",
      "[-0.57987394 -0.27092823 -0.27600863  0.53128417] 2\n",
      "[-0.63951286 -0.27684036 -0.29087937  0.55317393] 3\n",
      "[-0.64203227 -0.27362608 -0.29405517  0.55425177] 4\n",
      "[-0.64383401 -0.27402897 -0.29445973  0.55480524] 5\n",
      "[-0.6438065  -0.2739553  -0.29451877  0.55478847] 6\n"
     ]
    }
   ],
   "source": [
    "A = np.array([[4,1,-1,1],[1,4,-1,-1],[-1,-1,5,1],[1,-1,1,3]],dtype = 'float64')\n",
    "b = np.array([-2,-2,0,1],dtype = 'float64')\n",
    "n = len(A)\n",
    "x = np.zeros(n)\n",
    "y = np.zeros(n)\n",
    "tol = 1\n",
    "m = 1.1\n",
    "l = 0\n",
    "while(tol>0.001):\n",
    "    for i in range(n):\n",
    "        sum = 0\n",
    "        for j in range(0,i):\n",
    "            sum += A[i,j]*x[j]\n",
    "        for j in range(i+1,n):\n",
    "            sum += A[i,j]*y[j]\n",
    "        x[i] = (b[i]-sum)/A[i,i]\n",
    "        x[i] = m*x[i]+(1-m)*y[i]\n",
    "        \n",
    "    tol = max(abs(x-y))\n",
    "    y = np.copy(x)\n",
    "    l = l+1\n",
    "    print(x,l)"
   ]
  },
  {
   "cell_type": "code",
   "execution_count": null,
   "metadata": {},
   "outputs": [],
   "source": []
  }
 ],
 "metadata": {
  "kernelspec": {
   "display_name": "Python 3",
   "language": "python",
   "name": "python3"
  },
  "language_info": {
   "codemirror_mode": {
    "name": "ipython",
    "version": 3
   },
   "file_extension": ".py",
   "mimetype": "text/x-python",
   "name": "python",
   "nbconvert_exporter": "python",
   "pygments_lexer": "ipython3",
   "version": "3.8.5"
  }
 },
 "nbformat": 4,
 "nbformat_minor": 4
}

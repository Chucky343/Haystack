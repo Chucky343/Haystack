{
 "cells": [
  {
   "cell_type": "code",
   "execution_count": 2,
   "metadata": {},
   "outputs": [],
   "source": [
    "import numpy as np"
   ]
  },
  {
   "cell_type": "markdown",
   "metadata": {},
   "source": [
    "## Question 1"
   ]
  },
  {
   "cell_type": "code",
   "execution_count": 4,
   "metadata": {},
   "outputs": [
    {
     "name": "stdout",
     "output_type": "stream",
     "text": [
      "[[   1.19     2.11  -100.       1.   ]\n",
      " [  14.2     -0.122   12.2     -1.   ]\n",
      " [   0.     100.     -99.9      1.   ]\n",
      " [  15.3      0.11   -13.1     -1.   ]] [1.12 3.44 2.15 4.16]\n",
      "U = [[ 1.19000000e+00  2.11000000e+00 -1.00000000e+02  1.00000000e+00]\n",
      " [ 0.00000000e+00 -2.53001513e+01  1.20547731e+03 -1.29327731e+01]\n",
      " [ 0.00000000e+00  0.00000000e+00  4.66480397e+03 -5.01173747e+01]\n",
      " [ 0.00000000e+00  0.00000000e+00  0.00000000e+00 -2.04328072e-01]] \n",
      "L = [[ 1.00000000e+00  0.00000000e+00  0.00000000e+00  0.00000000e+00]\n",
      " [ 1.19327731e+01  1.00000000e+00  0.00000000e+00  0.00000000e+00]\n",
      " [ 0.00000000e+00 -3.95254554e+00  1.00000000e+00  0.00000000e+00]\n",
      " [ 1.28571429e+01  1.06792134e+00 -3.15997398e-03  1.00000000e+00]] \n",
      "b = [1.12 3.44 2.15 4.16]\n",
      "y = [  1.12        -9.92470588 -37.07785196   0.24164015]\n",
      "x = [ 0.1768253   0.01269269 -0.02065405 -1.1826087 ]\n"
     ]
    }
   ],
   "source": [
    "A = np.array([[1.19,2.11,-100,1],[14.2,-0.122,12.2,-1],[0,100,-99.9,1],[15.3,0.11,-13.1,-1]])\n",
    "b = np.array([1.12,3.44,2.15,4.16])\n",
    "L = np.array([[1,0,0,0],[0,1.0,0,0],[0,0,1,0],[0,0,0,1]])\n",
    "print(A,b)\n",
    "n = len(b)\n",
    "x = np.zeros(n)\n",
    "\n",
    "# Row echelon form\n",
    "\n",
    "for k in range(0,n-1):\n",
    "    for i in range(k+1,n):\n",
    "        mult = A[i][k]/A[k][k]\n",
    "        L[i,k] = mult\n",
    "        for j in range(k,n):\n",
    "            A[i][j] = A[i][j]-(mult)*A[k][j]\n",
    "print('U =',A,'\\nL =',L, '\\nb =',b)\n",
    "\n",
    "# Ly = b to find y\n",
    "\n",
    "x[0] = b[0]/L[0,0]\n",
    "for i in range(1,n):\n",
    "    sum = b[i]\n",
    "    for j in range(0,i):\n",
    "        sum = sum-L[i,j]*x[j]\n",
    "    x[i] = sum/L[i,i]\n",
    "b = x\n",
    "print('y =',b)\n",
    "\n",
    "#  Ux = y to find x\n",
    "\n",
    "x[n-1] = b[n-1]/A[n-1,n-1]\n",
    "for i in range(n-2,-1,-1):\n",
    "    sum = b[i]\n",
    "    for j in range(i+1,n):\n",
    "        sum = sum-A[i,j]*x[j]\n",
    "    x[i] = sum/A[i,i]\n",
    "print('x =',x)"
   ]
  },
  {
   "cell_type": "markdown",
   "metadata": {},
   "source": [
    "## Question 2"
   ]
  },
  {
   "cell_type": "code",
   "execution_count": 6,
   "metadata": {},
   "outputs": [
    {
     "name": "stdout",
     "output_type": "stream",
     "text": [
      "[[   1.19     2.11  -100.       1.   ]\n",
      " [  14.2     -0.122   12.2     -1.   ]\n",
      " [   0.     100.     -99.9      1.   ]\n",
      " [  15.3      0.11   -13.1     -1.   ]] [1.12 3.44 2.15 4.16]\n",
      "A = [[ 1.19000000e+00  2.11000000e+00 -1.00000000e+02  1.00000000e+00]\n",
      " [ 1.19327731e+01 -2.53001513e+01  1.20547731e+03 -1.29327731e+01]\n",
      " [ 0.00000000e+00 -3.95254554e+00  4.66480397e+03 -5.01173747e+01]\n",
      " [ 1.28571429e+01  1.06792134e+00 -3.15997398e-03 -2.04328072e-01]] b = [1.12 3.44 2.15 4.16]\n",
      "y = [  1.12        -9.92470588 -37.07785196   0.24164015]\n",
      "x = [ 0.1768253   0.01269269 -0.02065405 -1.1826087 ]\n"
     ]
    }
   ],
   "source": [
    "A = np.array([[1.19,2.11,-100,1],[14.2,-0.122,12.2,-1],[0,100,-99.9,1],[15.3,0.11,-13.1,-1]])\n",
    "b = np.array([1.12,3.44,2.15,4.16])\n",
    "print(A,b)\n",
    "n = len(b)\n",
    "x = np.zeros(n)\n",
    "\n",
    "# Row echelon form\n",
    "\n",
    "for k in range(0,n-1):\n",
    "    for i in range(k+1,n):\n",
    "        mult = A[i][k]/A[k][k]\n",
    "        for j in range(k,n):\n",
    "            A[i][j] = A[i][j]-(mult)*A[k][j]\n",
    "        A[i,k] = mult\n",
    "print('A =',A, 'b =',b)\n",
    "\n",
    "# Ly = b to find y\n",
    "\n",
    "x[0] = b[0]\n",
    "for i in range(1,n):\n",
    "    sum = b[i]\n",
    "    for j in range(0,i):\n",
    "        sum = sum-A[i,j]*x[j]\n",
    "    x[i] = sum\n",
    "b = x\n",
    "print('y =',b)\n",
    "\n",
    "# Ux = y to find x\n",
    "\n",
    "x[n-1] = b[n-1]/A[n-1,n-1]\n",
    "for i in range(n-2,-1,-1):\n",
    "    sum = b[i]\n",
    "    for j in range(i+1,n):\n",
    "        sum = sum-A[i,j]*x[j]\n",
    "    x[i] = sum/A[i,i]\n",
    "print('x =',x)"
   ]
  },
  {
   "cell_type": "code",
   "execution_count": null,
   "metadata": {},
   "outputs": [],
   "source": [
    "x[m,a] = k0\n"
   ]
  }
 ],
 "metadata": {
  "kernelspec": {
   "display_name": "Python 3",
   "language": "python",
   "name": "python3"
  },
  "language_info": {
   "codemirror_mode": {
    "name": "ipython",
    "version": 3
   },
   "file_extension": ".py",
   "mimetype": "text/x-python",
   "name": "python",
   "nbconvert_exporter": "python",
   "pygments_lexer": "ipython3",
   "version": "3.8.5"
  }
 },
 "nbformat": 4,
 "nbformat_minor": 4
}
